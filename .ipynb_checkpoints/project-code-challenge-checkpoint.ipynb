{
 "cells": [
  {
   "cell_type": "markdown",
   "metadata": {},
   "source": [
    "<img src=\"http://imgur.com/1ZcRyrc.png\" style=\"float: left; margin: 20px; height: 55px\">\n",
    "\n",
    "# Project 1: Python Coding Exercises\n",
    "\n",
    "_Authors: Joseph Nelson (DC)_\n",
    "\n",
    "---"
   ]
  },
  {
   "cell_type": "markdown",
   "metadata": {},
   "source": [
    "The following code challenges are drawn from common exercises used in technical interviews.\n",
    "\n",
    "Please note that there may be several ways to approach each challenge. If you get stuck, try mapping out your approach in pseudocode first. Finally, while solutions to problems like these may be found online, remember that if you copy/paste code that you can't explain, you'll be missing out on the point of the project. The only way to truly learn a new skill is through practice, trial, and error - we can only help you improve by understanding where you are having trouble."
   ]
  },
  {
   "cell_type": "markdown",
   "metadata": {},
   "source": [
    "### Challenge 1: Largest Palindrome\n",
    "A palindromic number reads the same both ways. For example, 1234321 is a palindrome. The largest palindrome made from the product of two two-digit numbers is 9009 = 91 × 99. Find the largest palindrome made from the product of two three-digit numbers. Afterward, write a brief explanation walking through your code's logic in markdown."
   ]
  },
  {
   "cell_type": "code",
   "execution_count": 1,
   "metadata": {},
   "outputs": [
    {
     "name": "stdout",
     "output_type": "stream",
     "text": [
      "Largest Palindrom for 2 product of 3 digit is : 993 x 913 = 906609\n"
     ]
    }
   ],
   "source": [
    "def Reverse(s): # define reverse string\n",
    "    return s[::-1] # return reverse string\n",
    "\n",
    "\n",
    "def IsPalindrome(x): # define palindrone\n",
    "    if str(x) == Reverse(str(x)): # if string x equal reverse string\n",
    "        return True # return true\n",
    "    else:\n",
    "        return False \n",
    "\n",
    "\n",
    "def NumberRangeByLen(x): # define number range by length x\n",
    "    _min = '1' # set variable of _min value of range as string of '1'\n",
    "    _max = '9' # set variable of _max value of range as string of '9'\n",
    "    for _ in range(x-1): # since there's an initial of 1 character, the remainding range will be the total length minus 1\n",
    "        _min += '0' # append '0' to _min\n",
    "        _max += '9' # append '9' to _max\n",
    "    _rng = range(int(_max), int(_min)-1, -1) \n",
    "    # from largest number to smallest number, inclusive smallest itself should minus 1\n",
    "    return _rng # return range\n",
    "\n",
    "\n",
    "def Palindrome(x):\n",
    "    _i = -1 \n",
    "    # define a check, number as -1 has no significant meaning, mainly for storage or reference\n",
    "    _j = -1 \n",
    "    # define a check, number as -1 has no significant meaning, mainly for storage or reference\n",
    "    _val = -1 \n",
    "    # define a check, number as -1 has no significant meaning, mainly for storage or reference, make sure the number could not exceed the val. by ixj\n",
    "    rng = NumberRangeByLen(x)\n",
    "    for i in rng: # for loop in range\n",
    "        for j in rng: # for loop in range\n",
    "            val = i * j # per requirement: 3 digit x 3 digit; current calculation\n",
    "            if IsPalindrome(val): # check if palindrome satified\n",
    "                if val > _val: # if current value > stored value\n",
    "                    _val = val # set current value as stored value\n",
    "                    _i = i # set current value i as stored value\n",
    "                    _j = j # set current value j as stored value\n",
    "    return 'Largest Palindrom for 2 product of {} digit is : {} x {} = {}'.format(\n",
    "        x, _i, _j, _val) # return a string\n",
    "print(Palindrome(3)) # set 3 digit as length"
   ]
  },
  {
   "cell_type": "markdown",
   "metadata": {},
   "source": [
    "Q1 concepts: \n",
    "1. define reverse string;\n",
    "2. define palindrome;\n",
    "3. define number range by length x;\n",
    "4. set variable of _min value of range as string of '1'& variable of _max value of range as string of '9';\n",
    "5. append value for loop function;\n",
    "6. range from largest number to smallest number, inclusive smallest itself should minus 1; vice versa;\n",
    "7. set storage for _i,_j, _val, noted that the number _val could not exceed the val by ixj;\n",
    "8. loop in range for i,j and do the calculation\n",
    "9. use if fucntion to check palindrome, current value (val,i,j)vs. stored value(_val,i,j);\n",
    "10. return a string and print out."
   ]
  },
  {
   "cell_type": "markdown",
   "metadata": {},
   "source": [
    "\n",
    "### Challenge 2: Summation of Primes\n",
    "The sum of the primes below 10 is 2 + 3 + 5 + 7 = 17. Find the sum of all the primes below 2,000. Afterward, write a brief explanation walking through your code's logic in markdown."
   ]
  },
  {
   "cell_type": "code",
   "execution_count": 2,
   "metadata": {
    "scrolled": true
   },
   "outputs": [
    {
     "name": "stdout",
     "output_type": "stream",
     "text": [
      "[2, 3, 5, 7, 11, 13, 17, 19, 23, 29, 31, 37, 41, 43, 47, 53, 59, 61, 67, 71, 73, 79, 83, 89, 97, 101, 103, 107, 109, 113, 127, 131, 137, 139, 149, 151, 157, 163, 167, 173, 179, 181, 191, 193, 197, 199, 211, 223, 227, 229, 233, 239, 241, 251, 257, 263, 269, 271, 277, 281, 283, 293, 307, 311, 313, 317, 331, 337, 347, 349, 353, 359, 367, 373, 379, 383, 389, 397, 401, 409, 419, 421, 431, 433, 439, 443, 449, 457, 461, 463, 467, 479, 487, 491, 499, 503, 509, 521, 523, 541, 547, 557, 563, 569, 571, 577, 587, 593, 599, 601, 607, 613, 617, 619, 631, 641, 643, 647, 653, 659, 661, 673, 677, 683, 691, 701, 709, 719, 727, 733, 739, 743, 751, 757, 761, 769, 773, 787, 797, 809, 811, 821, 823, 827, 829, 839, 853, 857, 859, 863, 877, 881, 883, 887, 907, 911, 919, 929, 937, 941, 947, 953, 967, 971, 977, 983, 991, 997, 1009, 1013, 1019, 1021, 1031, 1033, 1039, 1049, 1051, 1061, 1063, 1069, 1087, 1091, 1093, 1097, 1103, 1109, 1117, 1123, 1129, 1151, 1153, 1163, 1171, 1181, 1187, 1193, 1201, 1213, 1217, 1223, 1229, 1231, 1237, 1249, 1259, 1277, 1279, 1283, 1289, 1291, 1297, 1301, 1303, 1307, 1319, 1321, 1327, 1361, 1367, 1373, 1381, 1399, 1409, 1423, 1427, 1429, 1433, 1439, 1447, 1451, 1453, 1459, 1471, 1481, 1483, 1487, 1489, 1493, 1499, 1511, 1523, 1531, 1543, 1549, 1553, 1559, 1567, 1571, 1579, 1583, 1597, 1601, 1607, 1609, 1613, 1619, 1621, 1627, 1637, 1657, 1663, 1667, 1669, 1693, 1697, 1699, 1709, 1721, 1723, 1733, 1741, 1747, 1753, 1759, 1777, 1783, 1787, 1789, 1801, 1811, 1823, 1831, 1847, 1861, 1867, 1871, 1873, 1877, 1879, 1889, 1901, 1907, 1913, 1931, 1933, 1949, 1951, 1973, 1979, 1987, 1993, 1997, 1999]\n",
      "sum of all the primes below 2,000 is 277050\n"
     ]
    }
   ],
   "source": [
    "def isPrime(n, i=2):# define prime and set i=2 as default value\n",
    "    # set i as for base value\n",
    "    if (n <= 2): # if n <= 2\n",
    "       return True if (n == 2) else False # return true if n=2, else false\n",
    "    if (i * i > n): # if i * i > 0\n",
    "        return True # return true\n",
    "    if (n % i == 0): # if n/i = 0\n",
    "        return False # return false\n",
    "    #check for current prime value\n",
    "    return isPrime(n, i + 1)\n",
    "\n",
    "vals = [] # list the prime value in a set\n",
    "for i in range(0,2000): # range from 0 to 2000, exlusive 2000\n",
    "    if isPrime(i): # use if to check prime\n",
    "        vals.append(i) # append i\n",
    "result = 0 # initial result = 0\n",
    "for i in vals: # loop i in values\n",
    "        result += i # append i in result\n",
    "print(vals) # print values\n",
    "print(\"sum of all the primes below 2,000 is \"+ str(result)) # print in a comprehensive way\n"
   ]
  },
  {
   "cell_type": "markdown",
   "metadata": {},
   "source": [
    "Q2 concepts: \n",
    "1. mathmatically understand prime number(is a whole number greater than 1 whose only factors are 1 and itself)and define prime, set i=2 as default;\n",
    "2. use if function to set criteria (if n <= 2, return true if n=2, else false;\n",
    "3. use if function to set i * i > 0, true; if n/i = 0, false;\n",
    "4. list <2000 prime value;\n",
    "5. check prime and append if is prime in a set;\n",
    "6. loop value and append into result;\n",
    "7. print out in a way."
   ]
  },
  {
   "cell_type": "markdown",
   "metadata": {},
   "source": [
    "### Challenge 3: Multiples of 3 and 5\n",
    "If we list all of the natural numbers below 10 that are multiples of 3 or 5, we get 3, 5, 6, and 9. The sum of these multiples is 23. Find the sum of all the multiples of 3 and 5 below 1,000. Afterward, write a brief explanation walking through your code's logic in markdown."
   ]
  },
  {
   "cell_type": "code",
   "execution_count": 3,
   "metadata": {},
   "outputs": [
    {
     "name": "stdout",
     "output_type": "stream",
     "text": [
      "[3, 5, 6, 9, 10, 12, 15, 18, 20, 21, 24, 25, 27, 30, 33, 35, 36, 39, 40, 42, 45, 48, 50, 51, 54, 55, 57, 60, 63, 65, 66, 69, 70, 72, 75, 78, 80, 81, 84, 85, 87, 90, 93, 95, 96, 99, 100, 102, 105, 108, 110, 111, 114, 115, 117, 120, 123, 125, 126, 129, 130, 132, 135, 138, 140, 141, 144, 145, 147, 150, 153, 155, 156, 159, 160, 162, 165, 168, 170, 171, 174, 175, 177, 180, 183, 185, 186, 189, 190, 192, 195, 198, 200, 201, 204, 205, 207, 210, 213, 215, 216, 219, 220, 222, 225, 228, 230, 231, 234, 235, 237, 240, 243, 245, 246, 249, 250, 252, 255, 258, 260, 261, 264, 265, 267, 270, 273, 275, 276, 279, 280, 282, 285, 288, 290, 291, 294, 295, 297, 300, 303, 305, 306, 309, 310, 312, 315, 318, 320, 321, 324, 325, 327, 330, 333, 335, 336, 339, 340, 342, 345, 348, 350, 351, 354, 355, 357, 360, 363, 365, 366, 369, 370, 372, 375, 378, 380, 381, 384, 385, 387, 390, 393, 395, 396, 399, 400, 402, 405, 408, 410, 411, 414, 415, 417, 420, 423, 425, 426, 429, 430, 432, 435, 438, 440, 441, 444, 445, 447, 450, 453, 455, 456, 459, 460, 462, 465, 468, 470, 471, 474, 475, 477, 480, 483, 485, 486, 489, 490, 492, 495, 498, 500, 501, 504, 505, 507, 510, 513, 515, 516, 519, 520, 522, 525, 528, 530, 531, 534, 535, 537, 540, 543, 545, 546, 549, 550, 552, 555, 558, 560, 561, 564, 565, 567, 570, 573, 575, 576, 579, 580, 582, 585, 588, 590, 591, 594, 595, 597, 600, 603, 605, 606, 609, 610, 612, 615, 618, 620, 621, 624, 625, 627, 630, 633, 635, 636, 639, 640, 642, 645, 648, 650, 651, 654, 655, 657, 660, 663, 665, 666, 669, 670, 672, 675, 678, 680, 681, 684, 685, 687, 690, 693, 695, 696, 699, 700, 702, 705, 708, 710, 711, 714, 715, 717, 720, 723, 725, 726, 729, 730, 732, 735, 738, 740, 741, 744, 745, 747, 750, 753, 755, 756, 759, 760, 762, 765, 768, 770, 771, 774, 775, 777, 780, 783, 785, 786, 789, 790, 792, 795, 798, 800, 801, 804, 805, 807, 810, 813, 815, 816, 819, 820, 822, 825, 828, 830, 831, 834, 835, 837, 840, 843, 845, 846, 849, 850, 852, 855, 858, 860, 861, 864, 865, 867, 870, 873, 875, 876, 879, 880, 882, 885, 888, 890, 891, 894, 895, 897, 900, 903, 905, 906, 909, 910, 912, 915, 918, 920, 921, 924, 925, 927, 930, 933, 935, 936, 939, 940, 942, 945, 948, 950, 951, 954, 955, 957, 960, 963, 965, 966, 969, 970, 972, 975, 978, 980, 981, 984, 985, 987, 990, 993, 995, 996, 999]\n",
      "sum of all the multiples of 3 and 5 below 1,000 is 233168\n"
     ]
    }
   ],
   "source": [
    "def IsMultipleOf3Or5(n): # define multiple of 3 or 5\n",
    "    if((n % 3) == 0): # if n/3 with no remainder\n",
    "        return True # return True\n",
    "    elif ((n % 5) == 0): # else if n/5 with no remainder\n",
    "        return True # return true\n",
    "    else:\n",
    "        return False\n",
    "\n",
    "\n",
    "vals = [] # list value in a set\n",
    "result = 0 # set result initial as 0\n",
    "for i in range(1, 1000): # loop range from 1 to 1000, exclusive 1000\n",
    "    chk = IsMultipleOf3Or5(i) # check i can be multiple of 3 or 5\n",
    "    if chk:\n",
    "        vals.append(i) # append value i if satisfy multiple of 3 or 5\n",
    "for i in range(len(vals)): # loop i value's length in range\n",
    "    result += vals[i] # append value i to result\n",
    "print(vals)\n",
    "print(\"sum of all the multiples of 3 and 5 below 1,000 is \" + str(result)) \n",
    "# print out sum string and result"
   ]
  },
  {
   "cell_type": "raw",
   "metadata": {},
   "source": [
    "Q3 concepts: \n",
    "1. define multiple of 3 or 5;\n",
    "2. if multiple both 3 or 5 use ( if ... elif...else...);\n",
    "3. list value in a set;\n",
    "4. loop in range from 1 to 1000, exclusive 1000;\n",
    "5. do check and append value;\n",
    "6. loop value i and append i to result;\n",
    "7. print out result."
   ]
  },
  {
   "cell_type": "markdown",
   "metadata": {},
   "source": [
    "### Challenge 4: String Compressor\n",
    "Implement a method to perform basic string compression using the counts of repeated characters. (This is called run-length encoding.) For example, the string \"aabcccccaaa\" would become a2b1c5a3. If the “compressed” string would not become smaller than the original string, your method should return the original string. You can assume the string has only uppercase and lowercase letters (a–z). Specify whether your solution is case sensitive or case insensitive and what you would need to change to make it the other. Afterward, write a brief explanation walking through your code's logic in markdown."
   ]
  },
  {
   "cell_type": "code",
   "execution_count": 4,
   "metadata": {},
   "outputs": [
    {
     "name": "stdout",
     "output_type": "stream",
     "text": [
      "aabcccccaaa = a2b1c5a3\n"
     ]
    }
   ],
   "source": [
    "def stringCompressor(x, caseSensitive = False): # define string compressor, set default as false\n",
    "    _x = x # backup input string x\n",
    "    _currChar = '' # create a current character as initial empty\n",
    "    _currCharcount = 0 # create a current character count initial count as 0\n",
    "    _output = '' # create an empty output as string\n",
    "    if not caseSensitive: # do a check if case not sentitive ( both upper and lower case exist)\n",
    "        _x = x.casefold() # convert to caseless and store to _x (string)\n",
    "    \n",
    "    for c in _x: # start to loop c in _x\n",
    "        if _currChar == '': # do check if _current character equal to initial empty string\n",
    "            _currChar = c # set _current character = c\n",
    "        if _currChar == c: #do check if _current character same as no change\n",
    "            _currCharcount += 1 # _current character count increase by 1\n",
    "        else: # will reach to character it is not same as _currChar\n",
    "            _output += _currChar + str(_currCharcount) \n",
    "            # since character have changed, write result of character and count to _output\n",
    "            _currChar = c # set new character as _currChar\n",
    "            _currCharcount = 1 # set new character count to 1 since it's first occurance\n",
    "    _output += _currChar + str(_currCharcount) # to append the last result to output\n",
    "    if(len(_output)>=len(_x)): # do check if output length >= original length of x\n",
    "        return x # return with original string\n",
    "    else:\n",
    "        return _output\n",
    "\n",
    "originalString = 'aabcccccaaa' # original string\n",
    "compressedString = stringCompressor(originalString, True) # try compress string with case sensitive\n",
    "print('{} = {}'.format(originalString, compressedString)) # print out, make the format as original string = compressed string"
   ]
  },
  {
   "cell_type": "markdown",
   "metadata": {},
   "source": [
    "Q4 concepts:\n",
    "1. define string compressor, set default as false;\n",
    "2. backup input string x, create a current character,create a current character count, create an empty output as string;\n",
    "3. do a check if case not sentitive, using casehold(),convert to caseless and store;\n",
    "4. start to loop and do check use if function;\n",
    "5. set new character as _currChar and new character count to 1, append the last result to output;\n",
    "6. do check and return output;\n",
    "7. set original string;\n",
    "8. try compress string with case sensitive;\n",
    "9. print out, make the format as original string = compressed string."
   ]
  },
  {
   "cell_type": "markdown",
   "metadata": {},
   "source": [
    "### *BONUS* Challenge: FizzBuzz\n",
    "Write a program that prints all of the numbers from 1 to 100. For multiples of 3, instead of the number, print \"Fizz;\" for multiples of 5, print \"Buzz.\" For numbers that are multiples of both 3 and 5, print \"FizzBuzz.\" Afterward, write a brief explanation walking through your code's logic in markdown."
   ]
  },
  {
   "cell_type": "code",
   "execution_count": 5,
   "metadata": {},
   "outputs": [
    {
     "name": "stdout",
     "output_type": "stream",
     "text": [
      "1 - \n",
      "2 - \n",
      "3 - Fizz\n",
      "4 - \n",
      "5 - Buzz\n",
      "6 - Fizz\n",
      "7 - \n",
      "8 - \n",
      "9 - Fizz\n",
      "10 - Buzz\n",
      "11 - \n",
      "12 - Fizz\n",
      "13 - \n",
      "14 - \n",
      "15 - FizzBuzz\n",
      "16 - \n",
      "17 - \n",
      "18 - Fizz\n",
      "19 - \n",
      "20 - Buzz\n",
      "21 - Fizz\n",
      "22 - \n",
      "23 - \n",
      "24 - Fizz\n",
      "25 - Buzz\n",
      "26 - \n",
      "27 - Fizz\n",
      "28 - \n",
      "29 - \n",
      "30 - FizzBuzz\n",
      "31 - \n",
      "32 - \n",
      "33 - Fizz\n",
      "34 - \n",
      "35 - Buzz\n",
      "36 - Fizz\n",
      "37 - \n",
      "38 - \n",
      "39 - Fizz\n",
      "40 - Buzz\n",
      "41 - \n",
      "42 - Fizz\n",
      "43 - \n",
      "44 - \n",
      "45 - FizzBuzz\n",
      "46 - \n",
      "47 - \n",
      "48 - Fizz\n",
      "49 - \n",
      "50 - Buzz\n",
      "51 - Fizz\n",
      "52 - \n",
      "53 - \n",
      "54 - Fizz\n",
      "55 - Buzz\n",
      "56 - \n",
      "57 - Fizz\n",
      "58 - \n",
      "59 - \n",
      "60 - FizzBuzz\n",
      "61 - \n",
      "62 - \n",
      "63 - Fizz\n",
      "64 - \n",
      "65 - Buzz\n",
      "66 - Fizz\n",
      "67 - \n",
      "68 - \n",
      "69 - Fizz\n",
      "70 - Buzz\n",
      "71 - \n",
      "72 - Fizz\n",
      "73 - \n",
      "74 - \n",
      "75 - FizzBuzz\n",
      "76 - \n",
      "77 - \n",
      "78 - Fizz\n",
      "79 - \n",
      "80 - Buzz\n",
      "81 - Fizz\n",
      "82 - \n",
      "83 - \n",
      "84 - Fizz\n",
      "85 - Buzz\n",
      "86 - \n",
      "87 - Fizz\n",
      "88 - \n",
      "89 - \n",
      "90 - FizzBuzz\n",
      "91 - \n",
      "92 - \n",
      "93 - Fizz\n",
      "94 - \n",
      "95 - Buzz\n",
      "96 - Fizz\n",
      "97 - \n",
      "98 - \n",
      "99 - Fizz\n",
      "100 - Buzz\n"
     ]
    }
   ],
   "source": [
    "def FizzBuzz(n):# define FizzBuzz\n",
    "    output = '' # output initially as empty string\n",
    "    if (n % 3 == 0): \n",
    "        output = 'Fizz' # output as Fizz if multiples of 3\n",
    "    if (n % 5 == 0): \n",
    "        output += 'Buzz' # append Buzz if multiples of 5\n",
    "    return output\n",
    "\n",
    "for i in range(1, 101): # inclusive 100\n",
    "    print('{} - {}'.format(i, FizzBuzz(i))) # print out "
   ]
  },
  {
   "cell_type": "markdown",
   "metadata": {},
   "source": [
    "Bonus Question concepts:\n",
    "1. define FizzBuzz, output initially as empty string;\n",
    "2. output as Fizz if multiples of 3;\n",
    "3. append Buzz if multiples of 5;\n",
    "4. make the range inclusive 100, use range(1, 101);\n",
    "5. set a format and print out."
   ]
  }
 ],
 "metadata": {
  "anaconda-cloud": {},
  "kernelspec": {
   "display_name": "Python 3",
   "language": "python",
   "name": "python3"
  },
  "language_info": {
   "codemirror_mode": {
    "name": "ipython",
    "version": 3
   },
   "file_extension": ".py",
   "mimetype": "text/x-python",
   "name": "python",
   "nbconvert_exporter": "python",
   "pygments_lexer": "ipython3",
   "version": "3.7.3"
  },
  "toc": {
   "base_numbering": 1,
   "nav_menu": {},
   "number_sections": true,
   "sideBar": true,
   "skip_h1_title": false,
   "title_cell": "Table of Contents",
   "title_sidebar": "Contents",
   "toc_cell": false,
   "toc_position": {},
   "toc_section_display": true,
   "toc_window_display": false
  },
  "varInspector": {
   "cols": {
    "lenName": 16,
    "lenType": 16,
    "lenVar": 40
   },
   "kernels_config": {
    "python": {
     "delete_cmd_postfix": "",
     "delete_cmd_prefix": "del ",
     "library": "var_list.py",
     "varRefreshCmd": "print(var_dic_list())"
    },
    "r": {
     "delete_cmd_postfix": ") ",
     "delete_cmd_prefix": "rm(",
     "library": "var_list.r",
     "varRefreshCmd": "cat(var_dic_list()) "
    }
   },
   "types_to_exclude": [
    "module",
    "function",
    "builtin_function_or_method",
    "instance",
    "_Feature"
   ],
   "window_display": false
  }
 },
 "nbformat": 4,
 "nbformat_minor": 2
}
